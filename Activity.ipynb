{
 "cells": [
  {
   "cell_type": "markdown",
   "id": "7d3e9e4d",
   "metadata": {},
   "source": [
    "# Understanding Subscription Behaviors"
   ]
  },
  {
   "cell_type": "code",
   "execution_count": 6,
   "id": "8ed5d7e1",
   "metadata": {},
   "outputs": [],
   "source": [
    "# Import libraries\n",
    "import pandas as pd"
   ]
  },
  {
   "cell_type": "code",
   "execution_count": 7,
   "id": "41625ffb",
   "metadata": {},
   "outputs": [],
   "source": [
    "# Import data\n",
    "client_details = pd.read_csv('data/client_details.csv')\n",
    "subscription_records = pd.read_csv('data/subscription_records.csv')\n",
    "economic_indicators = pd.read_csv('data/economic_indicators.csv')\n",
    "payment_history = pd.read_csv('data/payment_history.csv')"
   ]
  },
  {
   "cell_type": "code",
   "execution_count": 9,
   "id": "72686c33",
   "metadata": {},
   "outputs": [
    {
     "name": "stdout",
     "output_type": "stream",
     "text": [
      "Total Fintech and Crypto clients: 47\n"
     ]
    }
   ],
   "source": [
    "# How many total Fintech and Crypto clients does the company have?\n",
    "# Create a funtion that returns 1 if the input is either 'Fintech' or 'Crypto'\n",
    "def is_fintech_or_crypto(client_type):\n",
    "    if client_type in ['Fintech', 'Crypto']:\n",
    "        return 1\n",
    "    else:\n",
    "        return 0\n",
    "# Apply the function to industry column\n",
    "total_fintech_crypto_clients = 0\n",
    "for industry in client_details['industry']:\n",
    "    total_fintech_crypto_clients += is_fintech_or_crypto(industry)\n",
    "\n",
    "# View the results\n",
    "print(f'Total Fintech and Crypto clients: {total_fintech_crypto_clients}')"
   ]
  },
  {
   "cell_type": "code",
   "execution_count": null,
   "id": "480d0e47",
   "metadata": {},
   "outputs": [],
   "source": [
    "# Which industry has the highest number of renewals?"
   ]
  }
 ],
 "metadata": {
  "kernelspec": {
   "display_name": ".venv",
   "language": "python",
   "name": "python3"
  },
  "language_info": {
   "codemirror_mode": {
    "name": "ipython",
    "version": 3
   },
   "file_extension": ".py",
   "mimetype": "text/x-python",
   "name": "python",
   "nbconvert_exporter": "python",
   "pygments_lexer": "ipython3",
   "version": "3.10.12"
  }
 },
 "nbformat": 4,
 "nbformat_minor": 5
}
